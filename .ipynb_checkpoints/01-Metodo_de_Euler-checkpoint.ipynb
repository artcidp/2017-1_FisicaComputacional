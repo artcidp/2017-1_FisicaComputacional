{
 "cells": [
  {
   "cell_type": "markdown",
   "metadata": {},
   "source": [
    "A continuación desarrollaremos un integrador simple que utilize el Método de Euler. Para esto, dada una función diferenciable $f(x)$, consideramos una aproximación de la derivada como $$f'(x)\\approx \\frac{f(x+h)-f(x)}{h}$$. Esta aproximación es válida para $h´s$ lo suficientemente pequeñas. Entonces, dada una condición inicial $f_0=f(x_0)$ se tiene que $f(x0+h)\\approx f_0+hf'(x0)$ y al aplicarlo iteradamente con $f(x+h)\\approx f(x)+hf'(x)$ se pueden encontrar de manera aproximada los valores de $f(x)$ en un intervalo $[x_0,x_f]$. Si se desean hacer $n$ pasos, entonces $h=\\frac{x_f-x_0}{h}$."
   ]
  },
  {
   "cell_type": "code",
   "execution_count": 4,
   "metadata": {
    "collapsed": false
   },
   "outputs": [],
   "source": [
    "import numpy as np"
   ]
  },
  {
   "cell_type": "code",
   "execution_count": 5,
   "metadata": {
    "collapsed": false
   },
   "outputs": [
    {
     "name": "stdout",
     "output_type": "stream",
     "text": [
      "[ 0.   0.5  1.   1.5  2.   2.5] [ 0.   0.5  1.   1.5  2.   2.5]\n"
     ]
    }
   ],
   "source": [
    "tiempos=np.arange(0.,3.,0.5)\n",
    "x=tiempos\n",
    "print tiempos,x"
   ]
  },
  {
   "cell_type": "code",
   "execution_count": 6,
   "metadata": {
    "collapsed": false
   },
   "outputs": [
    {
     "data": {
      "text/plain": [
       "[0, 1, 2, 3, 4]"
      ]
     },
     "execution_count": 6,
     "metadata": {},
     "output_type": "execute_result"
    }
   ],
   "source": [
    "range(0,5)"
   ]
  },
  {
   "cell_type": "code",
   "execution_count": 7,
   "metadata": {
    "collapsed": false
   },
   "outputs": [
    {
     "name": "stdout",
     "output_type": "stream",
     "text": [
      "hi\n",
      "hi\n",
      "hi\n",
      "hi\n"
     ]
    }
   ],
   "source": [
    "for i in range(1,5):\n",
    "    print \"hi\""
   ]
  },
  {
   "cell_type": "code",
   "execution_count": 8,
   "metadata": {
    "collapsed": false
   },
   "outputs": [
    {
     "data": {
      "text/plain": [
       "array([ 0.,  0.,  0.,  0.,  0.])"
      ]
     },
     "execution_count": 8,
     "metadata": {},
     "output_type": "execute_result"
    }
   ],
   "source": [
    "np.zeros(5)"
   ]
  },
  {
   "cell_type": "code",
   "execution_count": 9,
   "metadata": {
    "collapsed": false
   },
   "outputs": [],
   "source": [
    "def euler (funcion,x0,t0,tf,h=0.01):\n",
    "    tiempos=np.arange(t0,tf,h)\n",
    "    x=np.zeros(len(tiempos))\n",
    "    x[0]=x0\n",
    "    for i in range(0,len(tiempos)-1):\n",
    "        x[i+1]=x[i]+h*funcion(x[i],tiempos[i])\n",
    "    solucion=[tiempos,x]    \n",
    "    return solucion"
   ]
  },
  {
   "cell_type": "markdown",
   "metadata": {},
   "source": [
    "Probaremos el integrador con la ecuación diferencial $f´(x=f(t),t)=f(t)=x$ con condiciones iniciales $x_0=x(t=0)=1$. Sabemos que la solución debe ser la función exponencial, por lo que servirá para probar la solución."
   ]
  },
  {
   "cell_type": "code",
   "execution_count": 10,
   "metadata": {
    "collapsed": true
   },
   "outputs": [],
   "source": [
    "def fun(x,t):\n",
    "    return x"
   ]
  },
  {
   "cell_type": "code",
   "execution_count": 11,
   "metadata": {
    "collapsed": false
   },
   "outputs": [
    {
     "data": {
      "image/png": "[encoded data removed]",
      "text/plain": [
       "<matplotlib.figure.Figure at 0x44b3da0>"
      ]
     },
     "metadata": {},
     "output_type": "display_data"
    }
   ],
   "source": [
    "import matplotlib.pyplot as plt\n",
    "%matplotlib inline\n",
    "sol=euler(fun,1,0,10,0.01)\n",
    "plt.plot(sol[0],sol[1],sol[0],np.exp(sol[0]))\n",
    "plt.show()"
   ]
  },
  {
   "cell_type": "code",
   "execution_count": 12,
   "metadata": {
    "collapsed": false
   },
   "outputs": [
    {
     "data": {
      "text/plain": [
       "1.0"
      ]
     },
     "execution_count": 12,
     "metadata": {},
     "output_type": "execute_result"
    }
   ],
   "source": [
    "np.sqrt(1)"
   ]
  },
  {
   "cell_type": "code",
   "execution_count": 13,
   "metadata": {
    "collapsed": false
   },
   "outputs": [
    {
     "data": {
      "text/plain": [
       "0.90929742682568171"
      ]
     },
     "execution_count": 13,
     "metadata": {},
     "output_type": "execute_result"
    }
   ],
   "source": [
    "np.sin(2)"
   ]
  },
  {
   "cell_type": "code",
   "execution_count": 14,
   "metadata": {
    "collapsed": false
   },
   "outputs": [],
   "source": [
    "def fun2(x,t):\n",
    "    return 1/(np.sin(t)+1)"
   ]
  },
  {
   "cell_type": "code",
   "execution_count": 15,
   "metadata": {
    "collapsed": false
   },
   "outputs": [
    {
     "data": {
      "image/png": "[encoded data removed]",
      "text/plain": [
       "<matplotlib.figure.Figure at 0x44b3898>"
      ]
     },
     "metadata": {},
     "output_type": "display_data"
    }
   ],
   "source": [
    "sol=euler(fun2,1,0,np.pi/2,0.01)\n",
    "#(funcion,x0,t0,tf,h=0.01)\n",
    "plt.plot(sol[0],sol[1])\n",
    "plt.show()"
   ]
  },
  {
   "cell_type": "markdown",
   "metadata": {},
   "source": [
    "Al multiplicar una lista [a,b,...] por un número entero, el arreglo resultante se alarga ese número de veces, replicando las entradas."
   ]
  },
  {
   "cell_type": "code",
   "execution_count": 16,
   "metadata": {
    "collapsed": false
   },
   "outputs": [
    {
     "data": {
      "text/plain": [
       "[1, 2, 1, 2, 1, 2]"
      ]
     },
     "execution_count": 16,
     "metadata": {},
     "output_type": "execute_result"
    }
   ],
   "source": [
    "3*[1,2] "
   ]
  },
  {
   "cell_type": "markdown",
   "metadata": {},
   "source": [
    "Por otro lado, un array, multiplicado por un número (entero o no) multiplica cada una de las entradas"
   ]
  },
  {
   "cell_type": "code",
   "execution_count": 17,
   "metadata": {
    "collapsed": false
   },
   "outputs": [
    {
     "data": {
      "text/plain": [
       "array([ 2.5,  5. ,  7.5])"
      ]
     },
     "execution_count": 17,
     "metadata": {},
     "output_type": "execute_result"
    }
   ],
   "source": [
    "2.5*np.array([1,2,3])"
   ]
  },
  {
   "cell_type": "markdown",
   "metadata": {},
   "source": [
    "Utilizaremos esto para resolver una ecuación diferencial de segundo órden. En este caso se puede reducir a una ecuación de segundo orden. Entonces, se tiene una ecuación diferencial dada por $\\ddot{x}=f(x,t)$. Para resolverla hacemos el cambio de variable $v = \\dot{x} \\Rightarrow \\dot{v}=\\ddot{x}$. Con esto se tiene un sistema de ecuaciones dado por: \n",
    "$\\begin{cases} x´=f_1(x,t)\\\\v´=f_2(x,t) \\end{cases}$. En el caso lineal esto es simplemente:\n",
    "\n",
    "$$ \\begin{pmatrix} x' \\\\ v'  \\end{pmatrix}=\\begin{matrix}\\\\\\mbox{}\\end{matrix}\n",
    "  \\begin{pmatrix} a & b \\\\ c & d \\end{pmatrix} \n",
    "  \\begin{pmatrix} x \\\\ v \\end{pmatrix}$$\n",
    "  \n",
    "  \n",
    "  Que se puede escribir como $\\vec{x}'=A\\vec{x}$. Si hacemos Euler mediante $\\vec{x_{n+1}}=\\vec{x_n}+h A\\vec{x_n}$ se obtiene que el método de Euler se puede extender a ecuaciones vectoriales al utilizar arrays en vez de números flotantes. En el siguiente ejemplo resolveremos la ecuación del oscilador harmónico dada por $x''(t)+x=0$"
   ]
  },
  {
   "cell_type": "code",
   "execution_count": 18,
   "metadata": {
    "collapsed": true
   },
   "outputs": [],
   "source": [
    "def segundo_orden(x,t):\n",
    "    return np.array([x[1],-x[0]])"
   ]
  },
  {
   "cell_type": "code",
   "execution_count": 38,
   "metadata": {
    "collapsed": false
   },
   "outputs": [],
   "source": [
    "def euler2(funcion,p_ini,tf,h=0.01):\n",
    "    tiempos = np.arange(p_ini[0],tf,h)\n",
    "    x = [0]*len(tiempos)\n",
    "    x[0]=p_ini[1]\n",
    "    for i in range(0,len(tiempos)-1):\n",
    "        x[i+1]=x[i]+h*funcion(x[i],tiempos[i])\n",
    "    solucion = [tiempos,x]    \n",
    "    return solucion"
   ]
  },
  {
   "cell_type": "code",
   "execution_count": 66,
   "metadata": {
    "collapsed": false
   },
   "outputs": [
    {
     "data": {
      "text/plain": [
       "[<matplotlib.lines.Line2D at 0x7cb38d0>]"
      ]
     },
     "execution_count": 66,
     "metadata": {},
     "output_type": "execute_result"
    },
    {
     "data": {
      "image/png": "[encoded data removed]",
      "text/plain": [
       "<matplotlib.figure.Figure at 0xa78cd30>"
      ]
     },
     "metadata": {},
     "output_type": "display_data"
    }
   ],
   "source": [
    "sol=euler2(segundo_orden,[0,np.array([0,1])],50,0.001)\n",
    "y=np.zeros(len(sol[0]))\n",
    "v=np.zeros(len(sol[0]))\n",
    "\n",
    "for i in range(len(sol[1])):\n",
    "    y[i]=sol[1][i][0]\n",
    "    v[i]=sol[1][i][1]\n",
    "    \n",
    "plt.plot(sol[0],np.sin(sol[0]))\n",
    "plt.plot(sol[0],y)"
   ]
  },
  {
   "cell_type": "code",
   "execution_count": 65,
   "metadata": {
    "collapsed": false
   },
   "outputs": [
    {
     "data": {
      "text/plain": [
       "[<matplotlib.lines.Line2D at 0x8130be0>]"
      ]
     },
     "execution_count": 65,
     "metadata": {},
     "output_type": "execute_result"
    },
    {
     "data": {
      "image/png": "[encoded data removed]",
      "text/plain": [
       "<matplotlib.figure.Figure at 0x6e3f860>"
      ]
     },
     "metadata": {},
     "output_type": "display_data"
    }
   ],
   "source": [
    "plt.plot(y,v)"
   ]
  },
  {
   "cell_type": "code",
   "execution_count": 67,
   "metadata": {
    "collapsed": true
   },
   "outputs": [],
   "source": [
    "def factorial(n):\n",
    "    fac,num = 1,range(2,n+1)\n",
    "    for n in num:\n",
    "        fac = fac*n\n",
    "    return fac"
   ]
  },
  {
   "cell_type": "code",
   "execution_count": 96,
   "metadata": {
    "collapsed": true
   },
   "outputs": [],
   "source": [
    "def mi_sine(x,n_max=10):\n",
    "    x,y = x%(2*np.pi),0.\n",
    "    if x <= (np.pi/2):\n",
    "        #print \"intervalo 1\"\n",
    "        x = x\n",
    "    elif (np.pi/2) < x <= np.pi:\n",
    "        #print \"intervalo 2\"\n",
    "        x = np.pi-x\n",
    "    elif np.pi < x <= ((3*np.pi)/2):\n",
    "        #print \"intervalo 3\"\n",
    "        x = -(x-np.pi)\n",
    "    else:\n",
    "        #print \"intervalo 4\"\n",
    "        x = x-2*np.pi\n",
    "    for n in range(n_max):\n",
    "        p = 2*n+1\n",
    "        y += ((-1)**n)*(x**(p)/factorial(p))\n",
    "        err_max =abs((x**(p+2)/factorial(p+2)))\n",
    "    return (y,err_max)"
   ]
  },
  {
   "cell_type": "code",
   "execution_count": 76,
   "metadata": {
    "collapsed": false
   },
   "outputs": [
    {
     "name": "stdout",
     "output_type": "stream",
     "text": [
      "1.0\n",
      "intervalo 1\n",
      "(1.0, 2.571422892860472e-16)\n"
     ]
    }
   ],
   "source": [
    "print np.sin(np.pi/2)\n",
    "print mi_sine(np.pi/2)"
   ]
  },
  {
   "cell_type": "code",
   "execution_count": 83,
   "metadata": {
    "collapsed": false
   },
   "outputs": [
    {
     "data": {
      "text/plain": [
       "array([ 0.,  0.,  0.,  0.,  0.,  0.,  0.,  0.,  0.,  0.])"
      ]
     },
     "execution_count": 83,
     "metadata": {},
     "output_type": "execute_result"
    }
   ],
   "source": [
    "np.zeros(10)"
   ]
  },
  {
   "cell_type": "code",
   "execution_count": 93,
   "metadata": {
    "collapsed": false
   },
   "outputs": [
    {
     "name": "stdout",
     "output_type": "stream",
     "text": [
      "intervalo 1\n",
      "intervalo 1\n",
      "intervalo 1\n",
      "intervalo 1\n",
      "intervalo 1\n",
      "intervalo 1\n",
      "intervalo 1\n",
      "intervalo 1\n",
      "intervalo 1\n"
     ]
    },
    {
     "data": {
      "text/plain": [
       "[<matplotlib.lines.Line2D at 0xb2a60b8>]"
      ]
     },
     "execution_count": 93,
     "metadata": {},
     "output_type": "execute_result"
    },
    {
     "data": {
      "image/png": "[encoded data removed]",
      "text/plain": [
       "<matplotlib.figure.Figure at 0xafa54a8>"
      ]
     },
     "metadata": {},
     "output_type": "display_data"
    }
   ],
   "source": [
    "errores=np.zeros(10)\n",
    "for i in range(1,10):  \n",
    "    errores[i-1]=mi_sine(1,i)[1]\n",
    "    \n",
    "plt.plot(errores)   "
   ]
  },
  {
   "cell_type": "code",
   "execution_count": 97,
   "metadata": {
    "collapsed": false
   },
   "outputs": [
    {
     "name": "stdout",
     "output_type": "stream",
     "text": [
      "100000 loops, best of 3: 9.62 µs per loop\n"
     ]
    }
   ],
   "source": [
    "%timeit mi_sine(1,5)"
   ]
  },
  {
   "cell_type": "code",
   "execution_count": null,
   "metadata": {
    "collapsed": true
   },
   "outputs": [],
   "source": []
  }
 ],
 "metadata": {
  "kernelspec": {
   "display_name": "Python 2",
   "language": "python",
   "name": "python2"
  },
  "language_info": {
   "codemirror_mode": {
    "name": "ipython",
    "version": 2
   },
   "file_extension": ".py",
   "mimetype": "text/x-python",
   "name": "python",
   "nbconvert_exporter": "python",
   "pygments_lexer": "ipython2",
   "version": "2.7.11"
  }
 },
 "nbformat": 4,
 "nbformat_minor": 0
}
