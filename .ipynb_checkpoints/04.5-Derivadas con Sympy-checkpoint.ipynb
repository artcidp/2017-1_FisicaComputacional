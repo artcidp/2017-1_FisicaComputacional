{
 "cells": [
  {
   "cell_type": "markdown",
   "metadata": {},
   "source": [
    "Nota: Sympy y Numpy no son compatibles, i.e. no se pueden correr en el mismo espacio. Además, si se omite el comando\n",
    "    init_printing() la salida es formato que se puede procesar en numpy"
   ]
  },
  {
   "cell_type": "code",
   "execution_count": 1,
   "metadata": {
    "collapsed": false
   },
   "outputs": [
    {
     "data": {
      "image/png": "[encoded data removed]",
      "text/latex": [
       "$$x^{2} + \\tan^{3}{\\left (\\sqrt{- 8 x + \\pi} \\right )}$$"
      ],
      "text/plain": [
       " 2      3⎛  __________⎞\n",
       "x  + tan ⎝╲╱ -8⋅x + π ⎠"
      ]
     },
     "execution_count": 1,
     "metadata": {},
     "output_type": "execute_result"
    }
   ],
   "source": [
    "import sympy as sp\n",
    "sp.init_printing()\n",
    "x=sp.Symbol('x')\n",
    "f=(sp.tan(sp.sqrt(sp.pi-8*x)))**3+x**2\n",
    "f"
   ]
  },
  {
   "cell_type": "code",
   "execution_count": 2,
   "metadata": {
    "collapsed": false
   },
   "outputs": [
    {
     "data": {
      "image/png": "[encoded data removed]",
      "text/latex": [
       "$$2 x - \\frac{12 \\tan^{2}{\\left (\\sqrt{- 8 x + \\pi} \\right )}}{\\sqrt{- 8 x + \\pi}} \\left(\\tan^{2}{\\left (\\sqrt{- 8 x + \\pi} \\right )} + 1\\right)$$"
      ],
      "text/plain": [
       "         ⎛   2⎛  __________⎞    ⎞    2⎛  __________⎞\n",
       "      12⋅⎝tan ⎝╲╱ -8⋅x + π ⎠ + 1⎠⋅tan ⎝╲╱ -8⋅x + π ⎠\n",
       "2⋅x - ──────────────────────────────────────────────\n",
       "                         __________                 \n",
       "                       ╲╱ -8⋅x + π                  "
      ]
     },
     "execution_count": 2,
     "metadata": {},
     "output_type": "execute_result"
    }
   ],
   "source": [
    "f.diff(x)"
   ]
  },
  {
   "cell_type": "code",
   "execution_count": 18,
   "metadata": {
    "collapsed": false
   },
   "outputs": [],
   "source": [
    "? sp.Symbol"
   ]
  },
  {
   "cell_type": "code",
   "execution_count": 9,
   "metadata": {
    "collapsed": false
   },
   "outputs": [
    {
     "data": {
      "image/png": "[encoded data removed]",
      "text/latex": [
       "$$\\frac{h^{4}}{24} \\frac{d^{4}}{d x^{4}}  f{\\left (x \\right )} + \\frac{h^{3}}{6} \\frac{d^{3}}{d x^{3}}  f{\\left (x \\right )} + \\frac{h^{2}}{2} \\frac{d^{2}}{d x^{2}}  f{\\left (x \\right )} + h \\frac{d}{d x} f{\\left (x \\right )} + f{\\left (x \\right )}$$"
      ],
      "text/plain": [
       "     4              3              2                          \n",
       " 4  d           3  d           2  d                           \n",
       "h ⋅───(f(x))   h ⋅───(f(x))   h ⋅───(f(x))                    \n",
       "     4              3              2                          \n",
       "   dx             dx             dx            d              \n",
       "──────────── + ──────────── + ──────────── + h⋅──(f(x)) + f(x)\n",
       "     24             6              2           dx             "
      ]
     },
     "execution_count": 9,
     "metadata": {},
     "output_type": "execute_result"
    }
   ],
   "source": [
    "#Generador de Serie de Taylor\n",
    "x, h = sp.symbols('x, h')\n",
    "f = sp.Function('f')\n",
    "sum(h**i/sp.factorial(i) * f(x).diff(x, i) for i in range(5))"
   ]
  },
  {
   "cell_type": "code",
   "execution_count": null,
   "metadata": {
    "collapsed": true
   },
   "outputs": [],
   "source": []
  }
 ],
 "metadata": {
  "kernelspec": {
   "display_name": "Python 2",
   "language": "python",
   "name": "python2"
  },
  "language_info": {
   "codemirror_mode": {
    "name": "ipython",
    "version": 2
   },
   "file_extension": ".py",
   "mimetype": "text/x-python",
   "name": "python",
   "nbconvert_exporter": "python",
   "pygments_lexer": "ipython2",
   "version": "2.7.11"
  }
 },
 "nbformat": 4,
 "nbformat_minor": 0
}
