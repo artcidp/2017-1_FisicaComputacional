{
 "cells": [
  {
   "cell_type": "markdown",
   "metadata": {},
   "source": [
    "# Encontrar las raíces de una función"
   ]
  },
  {
   "cell_type": "markdown",
   "metadata": {},
   "source": [
    "Sacar raices nos sirve para caracterizar trayectorias en un sistema dinámico. \n",
    "\n",
    "Existen dos métodos para encontrar raíces, el de bipartición y el de Newton. "
   ]
  },
  {
   "cell_type": "markdown",
   "metadata": {},
   "source": [
    "### Método de Bipartición o Bisección\n",
    "\n",
    "Lo que vamos haciendo es que tienes una función y vas haciendo promedios con otro punto en la función, entonces sacas el promedio entre esos dos puntos. Luego le preguntas a la computadora si el resultado está por arriba o por abajo del cero (que es lo que queremos), si está por arriba tomamos los puntos anteriores y hacemos el promedio entre ellos, si está por abajo tomamos el punto original y otro para hacer el promedio. \n",
    "\n",
    "Haciendo este método recursivo de sacar promedios y luego ver si está por arriba o por abajo n veces nos va a dar como resultado que: \n",
    "$$\n",
    "\\lim_{x\\to\\infty} x_n = x_r\n",
    "$$\n",
    "\n",
    "Donde $x_r$ es nuestra raíz :)"
   ]
  },
  {
   "cell_type": "code",
   "execution_count": 19,
   "metadata": {
    "collapsed": true
   },
   "outputs": [],
   "source": [
    "from pylab import *\n",
    "%matplotlib inline"
   ]
  },
  {
   "cell_type": "code",
   "execution_count": 20,
   "metadata": {
    "collapsed": true
   },
   "outputs": [],
   "source": [
    "def raiz_bip(func,x_i,x_d,err=1e-5): #(la función, punto ancla izquiero, punto ancla derecho, error)\n",
    "    raiz = 0.5*(x_i+x_d)\n",
    "    y_i,y_d = func(x_i),func(x_d)\n",
    "    #n=0\n",
    "    while abs(raiz-x_d) >=err and abs(y_i-y_d)>=err:\n",
    "        y_m = func(raiz)\n",
    "        if y_m == 0 :\n",
    "            print \"Rich sice: chin, le atiné a la raíz\" \n",
    "            break #por si le atina a la raíz... que es raro #PAULOHARÍA\n",
    "        if y_m*y_i < 0:\n",
    "            x_d = raiz\n",
    "        else:\n",
    "            x_i = raiz\n",
    "        raiz = 0.5*(x_i+x_d)\n",
    "        y_i,y_d = func(x_i),func(x_d)\n",
    "        #n += 1\n",
    "        #print \"paso\"   ,n,   \"raíz\"  ,raiz\n",
    "        \n",
    "    return raiz"
   ]
  },
  {
   "cell_type": "markdown",
   "metadata": {},
   "source": [
    "#### Prueba con Sen(x)"
   ]
  },
  {
   "cell_type": "code",
   "execution_count": 21,
   "metadata": {
    "collapsed": false
   },
   "outputs": [
    {
     "data": {
      "image/png": "[encoded data removed]",
      "text/plain": [
       "<matplotlib.figure.Figure at 0x4522eb8>"
      ]
     },
     "metadata": {},
     "output_type": "display_data"
    }
   ],
   "source": [
    "x=linspace(5,7)\n",
    "plot(x,sin(x))\n",
    "grid(True)\n",
    "show()"
   ]
  },
  {
   "cell_type": "code",
   "execution_count": 22,
   "metadata": {
    "collapsed": false
   },
   "outputs": [
    {
     "name": "stdout",
     "output_type": "stream",
     "text": [
      "La raíz es: 6.28318530723\n",
      "2pi         6.28318530718\n",
      "QUE IMPRESIONANTE !!\n",
      "El error es de: -4.79545292364e-11\n"
     ]
    }
   ],
   "source": [
    "print \"La raíz es:\", raiz_bip(sin,5,7,1e-10)\n",
    "print \"2pi        \",2*pi\n",
    "print \"QUE IMPRESIONANTE !!\"\n",
    "print \"El error es de:\" ,2*pi-raiz_bip(sin,5,7,1e-10)"
   ]
  },
  {
   "cell_type": "markdown",
   "metadata": {},
   "source": [
    "#### Prueba con el Coseno"
   ]
  },
  {
   "cell_type": "code",
   "execution_count": 23,
   "metadata": {
    "collapsed": false
   },
   "outputs": [
    {
     "data": {
      "image/png": "[encoded data removed]",
      "text/plain": [
       "<matplotlib.figure.Figure at 0x6449da0>"
      ]
     },
     "metadata": {},
     "output_type": "display_data"
    }
   ],
   "source": [
    "x=linspace(0,4)\n",
    "plot(x,cos(x))\n",
    "grid(True)\n",
    "show()"
   ]
  },
  {
   "cell_type": "code",
   "execution_count": 24,
   "metadata": {
    "collapsed": false
   },
   "outputs": [
    {
     "name": "stdout",
     "output_type": "stream",
     "text": [
      "1.57079315186\n",
      "1.57079632679\n"
     ]
    }
   ],
   "source": [
    "print raiz_bip(cos,0,4)\n",
    "print 0.5*pi"
   ]
  },
  {
   "cell_type": "markdown",
   "metadata": {},
   "source": [
    "Por muy bonito que sea este algoritmo, no va a funcionar para las funciones que no crucen el cero (sean totalmente negativas o positivas)... porque le  va a hacer falta los puntos de signos intercambiados. Para eso, nos va a funcionar el método de Newton."
   ]
  },
  {
   "cell_type": "markdown",
   "metadata": {},
   "source": [
    "### Método de Newton"
   ]
  },
  {
   "cell_type": "markdown",
   "metadata": {},
   "source": [
    "Si se tiene una función diferenciable $f(x)$ de la cual se desea encontrar una raíz. Partiendo de un punto inicial $x_0$ se aproxima la función como una recta tangente en ese punto. Sabemos que la derivada al evaluarla en ese punto da la pendiente dela recta tangente. La recta está dada por $y(x)=f'(x_0) x + b$. Para hallar $b$ recordamos que la recta debe cumplir que, en $x_0$, $f(x_0)=f'(x_0) x_0 + b \\Rightarrow b = f(x_0) - f'(x_0) x_0$. Sustituyendo, se tiene que:\n",
    "\n",
    "$$y(x)=f'(x_0) x + - f'(x_0) x_0 -f(x_0) =f'(x_0)(x-x_0)-f(x_0)$$\n",
    "\n",
    "Entonces, si $x_1$ es tal que $y(x_1)=0$ se tiene que: $x_1=x_0+f(x_0)/f'(x_0)$. Al aplicarlo de manera iterada se obtiene:\n",
    "\n",
    "$$x_{n+1}=x_n+\\frac{f(x_n)}{f'(x_n)}$$, lo cual es válido si la derivada no es cero. Esto nos permite acercarnos a la raíz de manera iterada. Sin embargo, este método es sensible a condiciones iniciales, por lo que la raíz a la que converge puede variar según la condición inicial $x_0$."
   ]
  },
  {
   "cell_type": "code",
   "execution_count": 2,
   "metadata": {
    "collapsed": true
   },
   "outputs": [],
   "source": [
    "import numpy as np"
   ]
  },
  {
   "cell_type": "code",
   "execution_count": 3,
   "metadata": {
    "collapsed": false
   },
   "outputs": [],
   "source": [
    "def newton(fun,der,x0,err,n=20):\n",
    "    x=np.zeros(n+1)\n",
    "    x[0]=x0\n",
    "    i=0\n",
    "    while (i<n and abs(fun(x[i]))>err):\n",
    "        x[i+1]=x[i]-fun(x[i])/der(x[i])\n",
    "    return x    "
   ]
  },
  {
   "cell_type": "code",
   "execution_count": 18,
   "metadata": {
    "collapsed": false
   },
   "outputs": [],
   "source": [
    "def prueba(x):\n",
    "    (np.tan(np.sqrt(np.pi-8*x)))**3+x**2\n",
    "    \n",
    "def derp(x):\n",
    "    2*x-12*(np.tan(np.sqrt(np.pi-8*x)))**2*((np.tan(np.sqrt(np.pi-8*x)))**2+1)"
   ]
  },
  {
   "cell_type": "code",
   "execution_count": 23,
   "metadata": {
    "collapsed": false
   },
   "outputs": [
    {
     "ename": "TypeError",
     "evalue": "unsupported operand type(s) for /: 'NoneType' and 'float'",
     "output_type": "error",
     "traceback": [
      "\u001b[1;31m---------------------------------------------------------------------------\u001b[0m",
      "\u001b[1;31mTypeError\u001b[0m                                 Traceback (most recent call last)",
      "\u001b[1;32m<ipython-input-23-5e40288515ee>\u001b[0m in \u001b[0;36m<module>\u001b[1;34m()\u001b[0m\n\u001b[1;32m----> 1\u001b[1;33m \u001b[0mmiNewton\u001b[0m\u001b[1;33m(\u001b[0m\u001b[0mprueba\u001b[0m\u001b[1;33m,\u001b[0m\u001b[1;36m0\u001b[0m\u001b[1;33m,\u001b[0m \u001b[1;36m0.00000001\u001b[0m\u001b[1;33m,\u001b[0m \u001b[1;36m1e-20\u001b[0m\u001b[1;33m)\u001b[0m\u001b[1;33m\u001b[0m\u001b[0m\n\u001b[0m",
      "\u001b[1;32m<ipython-input-8-d483a20cfdfe>\u001b[0m in \u001b[0;36mmiNewton\u001b[1;34m(fun, x_inicial, h, err)\u001b[0m\n\u001b[0;32m      5\u001b[0m \u001b[1;33m\u001b[0m\u001b[0m\n\u001b[0;32m      6\u001b[0m     \u001b[1;32mwhile\u001b[0m \u001b[0meps\u001b[0m \u001b[1;33m>=\u001b[0m \u001b[0merr\u001b[0m \u001b[1;32mand\u001b[0m \u001b[0mn_iter\u001b[0m \u001b[1;33m<=\u001b[0m \u001b[0mnmax\u001b[0m\u001b[1;33m:\u001b[0m\u001b[1;33m\u001b[0m\u001b[0m\n\u001b[1;32m----> 7\u001b[1;33m         \u001b[0my\u001b[0m \u001b[1;33m=\u001b[0m \u001b[0mx_inicial\u001b[0m \u001b[1;33m-\u001b[0m \u001b[0mfun\u001b[0m\u001b[1;33m(\u001b[0m\u001b[0mx_inicial\u001b[0m\u001b[1;33m)\u001b[0m\u001b[1;33m/\u001b[0m \u001b[0mderivada\u001b[0m\u001b[1;33m(\u001b[0m\u001b[0mfun\u001b[0m\u001b[1;33m,\u001b[0m \u001b[0mx_inicial\u001b[0m\u001b[1;33m,\u001b[0m \u001b[0mh\u001b[0m\u001b[1;33m)\u001b[0m\u001b[1;33m\u001b[0m\u001b[0m\n\u001b[0m\u001b[0;32m      8\u001b[0m         \u001b[0meps\u001b[0m \u001b[1;33m=\u001b[0m \u001b[0mabs\u001b[0m\u001b[1;33m(\u001b[0m\u001b[0my\u001b[0m\u001b[1;33m-\u001b[0m\u001b[0mx_inicial\u001b[0m\u001b[1;33m)\u001b[0m\u001b[1;33m\u001b[0m\u001b[0m\n\u001b[0;32m      9\u001b[0m         \u001b[0mx_inicial\u001b[0m \u001b[1;33m=\u001b[0m \u001b[0my\u001b[0m\u001b[1;33m\u001b[0m\u001b[0m\n",
      "\u001b[1;32m<ipython-input-16-0056b0ce3824>\u001b[0m in \u001b[0;36mderivada\u001b[1;34m(fun, x, h)\u001b[0m\n\u001b[0;32m      1\u001b[0m \u001b[1;32mdef\u001b[0m \u001b[0mderivada\u001b[0m\u001b[1;33m(\u001b[0m\u001b[0mfun\u001b[0m\u001b[1;33m,\u001b[0m \u001b[0mx\u001b[0m\u001b[1;33m,\u001b[0m \u001b[0mh\u001b[0m \u001b[1;33m=\u001b[0m \u001b[1;36m0.0001\u001b[0m\u001b[1;33m)\u001b[0m\u001b[1;33m:\u001b[0m \u001b[1;31m#derivada compleja\u001b[0m\u001b[1;33m\u001b[0m\u001b[0m\n\u001b[1;32m----> 2\u001b[1;33m     \u001b[1;32mreturn\u001b[0m \u001b[0mnp\u001b[0m\u001b[1;33m.\u001b[0m\u001b[0mimag\u001b[0m\u001b[1;33m(\u001b[0m\u001b[0mfun\u001b[0m\u001b[1;33m(\u001b[0m\u001b[0mx\u001b[0m\u001b[1;33m+\u001b[0m\u001b[1;36m1j\u001b[0m\u001b[1;33m*\u001b[0m\u001b[0mh\u001b[0m\u001b[1;33m)\u001b[0m\u001b[1;33m/\u001b[0m\u001b[0mh\u001b[0m\u001b[1;33m)\u001b[0m\u001b[1;33m\u001b[0m\u001b[0m\n\u001b[0m",
      "\u001b[1;31mTypeError\u001b[0m: unsupported operand type(s) for /: 'NoneType' and 'float'"
     ]
    }
   ],
   "source": [
    "miNewton(prueba,0, 0.00000001, 1e-20)"
   ]
  },
  {
   "cell_type": "code",
   "execution_count": 16,
   "metadata": {
    "collapsed": false
   },
   "outputs": [],
   "source": [
    "def derivada(fun, x, h = 0.0001): #derivada compleja\n",
    "    return np.imag(fun(x+1j*h)/h)"
   ]
  },
  {
   "cell_type": "code",
   "execution_count": 8,
   "metadata": {
    "collapsed": true
   },
   "outputs": [],
   "source": [
    "def miNewton(fun, x_inicial, h = 0.0001, err = 1e-8):\n",
    "    eps = 1.\n",
    "    n_iter,nmax = 0.,100.\n",
    "    \n",
    "    \n",
    "    while eps >= err and n_iter <= nmax:\n",
    "        y = x_inicial - fun(x_inicial)/ derivada(fun, x_inicial, h)\n",
    "        eps = abs(y-x_inicial)\n",
    "        x_inicial = y\n",
    "        #print n_iter,eps, x_inicial\n",
    "        n_iter += 1.\n",
    "    print \"Se necesitaron\", n_iter-1, \"pasos para alcanzar un error menor a\", err, \".\"\n",
    "    return x_inicial"
   ]
  },
  {
   "cell_type": "code",
   "execution_count": 14,
   "metadata": {
    "collapsed": true
   },
   "outputs": [],
   "source": [
    "def test(x):\n",
    "    return (x-1)**5\n",
    "\n",
    "def test2(x):\n",
    "    return np.tan(np.sqrt(np.pi-8*x))**3 + x**2"
   ]
  },
  {
   "cell_type": "code",
   "execution_count": 17,
   "metadata": {
    "collapsed": false
   },
   "outputs": [
    {
     "name": "stdout",
     "output_type": "stream",
     "text": [
      "Se necesitaron 100.0 pasos para alcanzar un error menor a 1e-20 .\n"
     ]
    },
    {
     "data": {
      "text/plain": [
       "-0.45649040060030305"
      ]
     },
     "execution_count": 17,
     "metadata": {},
     "output_type": "execute_result"
    }
   ],
   "source": [
    "miNewton(test2,0, 0.00000001, 1e-20)"
   ]
  },
  {
   "cell_type": "code",
   "execution_count": null,
   "metadata": {
    "collapsed": true
   },
   "outputs": [],
   "source": []
  }
 ],
 "metadata": {
  "kernelspec": {
   "display_name": "Python 2",
   "language": "python",
   "name": "python2"
  },
  "language_info": {
   "codemirror_mode": {
    "name": "ipython",
    "version": 2
   },
   "file_extension": ".py",
   "mimetype": "text/x-python",
   "name": "python",
   "nbconvert_exporter": "python",
   "pygments_lexer": "ipython2",
   "version": "2.7.11"
  }
 },
 "nbformat": 4,
 "nbformat_minor": 0
}
