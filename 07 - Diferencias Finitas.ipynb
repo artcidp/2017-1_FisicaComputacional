{
 "cells": [
  {
   "cell_type": "code",
   "execution_count": 12,
   "metadata": {
    "collapsed": false
   },
   "outputs": [
    {
     "data": {
      "text/plain": [
       "Matriz_1D_ND (generic function with 1 method)"
      ]
     },
     "execution_count": 12,
     "metadata": {},
     "output_type": "execute_result"
    }
   ],
   "source": [
    "function Matriz_1D_ND(x)\n",
    "    N = length(x)-2\n",
    "    A=spzeros(N,N)\n",
    "    for i in 1:N\n",
    "        A[i,i]=(1./(x[i+2]-x[i]))*(1./(x[i+2]-x[i]))+(1./(x[i+1]-x[i]))\n",
    "        if i==1\n",
    "            xml=-x[2]\n",
    "            A[1,1]+=-1./((x[2]-x[1])*sqrt((x[2]-xm1)*(x[3]-x[1])))\n",
    "        end\n",
    "    end\n",
    "    for i in 1:(N-1)\n",
    "        diag_sup=-1./((x[i+2]-x[i+1])*sqrt(x[i+2]-x[i])*(x[i+3]-x[i+1]))\n",
    "        A[i,i+1]=diag_sup\n",
    "        A[i+1,i]=diag_sup\n",
    "    end\n",
    "    return A\n",
    "end"
   ]
  },
  {
   "cell_type": "code",
   "execution_count": 13,
   "metadata": {
    "collapsed": false
   },
   "outputs": [
    {
     "name": "stdout",
     "output_type": "stream",
     "text": [
      "100001\n"
     ]
    },
    {
     "name": "stderr",
     "output_type": "stream",
     "text": [
      "WARNING: Use symbols instead of strings for specifying which eigenvalues to compute\n"
     ]
    },
    {
     "name": "stdout",
     "output_type": "stream",
     "text": [
      "  0.813604 seconds (1.74 k allocations: 428.833 MB, 7.97% gc time)\n",
      "[-2.8832764048022386e7,4.141533957166317e7,-9.908086517220825e7,1.1166344561805438e8,-1.6932896373014432e8,1.8191155402137485e8,-2.3957705965367335e8,2.5215966471281734e8,-3.0982515287362206e8,3.2240777762295383e8]"
     ]
    }
   ],
   "source": [
    "x=collect(0.:0.00001:1)\n",
    "println(length(x))\n",
    "A=Matriz_1D(x)\n",
    "@time val,M = eigs(A,nev=10,which=\"SM\")\n",
    "print (val)\n",
    "#print(sqrt(2*val))"
   ]
  },
  {
   "cell_type": "code",
   "execution_count": 14,
   "metadata": {
    "collapsed": false
   },
   "outputs": [
    {
     "data": {
      "text/plain": [
       "2.7777777777777776e7"
      ]
     },
     "execution_count": 14,
     "metadata": {},
     "output_type": "execute_result"
    }
   ],
   "source": [
    "10e10/3600"
   ]
  },
  {
   "cell_type": "code",
   "execution_count": 16,
   "metadata": {
    "collapsed": false
   },
   "outputs": [
    {
     "data": {
      "text/plain": [
       "76103.500761035"
      ]
     },
     "execution_count": 16,
     "metadata": {},
     "output_type": "execute_result"
    }
   ],
   "source": [
    "ans/365"
   ]
  },
  {
   "cell_type": "code",
   "execution_count": null,
   "metadata": {
    "collapsed": true
   },
   "outputs": [],
   "source": []
  }
 ],
 "metadata": {
  "kernelspec": {
   "display_name": "Julia 0.4.3",
   "language": "julia",
   "name": "julia-0.4"
  },
  "language_info": {
   "file_extension": ".jl",
   "mimetype": "application/julia",
   "name": "julia",
   "version": "0.4.3"
  }
 },
 "nbformat": 4,
 "nbformat_minor": 0
}
