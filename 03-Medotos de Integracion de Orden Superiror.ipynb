{
 "cells": [
  {
   "cell_type": "markdown",
   "metadata": {},
   "source": [
    "El método de Euler está dado por $y_{n+1}=y_n+h\\ f(x_n,y_n)$. Recordamos que para resolver la ecuación diferencia se requiere realizar la siguiente integración $\\int_{x_n}^{x_{n+1}}y'(x)=\\int_{x_n}^{x_{n+1}}f(x,y)dx$, donde se integra de manera recursiva la función de $f$, avanzando del intervalo $[x_n,x_{n+1}]$ al intervalo $[x_n,x_{n+1}]$. Al integrar el lado izquierdo se obtiene que $y(x_{n+1})=y_{n+1}=y_n+\\int_{x_n}^{x_{n+1}}f(x,y)dx$. \n",
    "\n",
    "Para aumentar el orden del método se puede considerar $f(x,y)=f(x_n,y_n)+f'(x_n,y_n)h$ donde $\\frac{d}{dx}f(x,y)=\\frac{\\partial f}{\\partial x}+\\frac{\\partial f}{\\partial y}\\frac{\\partial y}{\\partial x} = \\frac{\\partial f}{\\partial x}+\\frac{\\partial f}{\\partial y}f = (\\nabla{f})\\cdot(1,f)$. Con esto, se puede integrar la ecuación diferencial al calcular de manera iterada $y_{n+1}=y_n+h\\ f(x_n,y_n)+\\frac{h^2}{2}(\\frac{\\partial f}{\\partial x}+\\frac{\\partial f}{\\partial y}f)\\Big|_{x_n,y_n}$\n",
    "\n",
    "Del mismo modo para considerar un orden mayor se calcula la segunda derivada mediante $\\frac{d^2}{dx^2}f(x,y)=\\frac{d}{dx}(\\frac{\\partial f}{\\partial x}+\\frac{\\partial f}{\\partial y}f)=\\underbrace{ \\frac{\\partial^2 f}{\\partial x^2}+\\frac{\\partial ^2 f}{\\partial x \\partial y}f+(\\frac{\\partial^2 f}{\\partial x \\partial y}+\\frac{\\partial^2 f}{\\partial y^2}f)f}_\\text{Matriz Hessiana} +(\\underbrace{\\frac{\\partial f}{\\partial x}+\\frac{\\partial f}{\\partial y}f}_\\text{$\\nabla f \\cdot (1, f)$})^2$.\n",
    "\n",
    "\n",
    "Esta forma de hacer los cálculos complica el método pues se utilizan derivadas de orden superior y aparecen el Gradiente y la matriz Hessiana sólo con tomar orden dos. Por esta razón se puede utilizar en segundo orden el método de Runge Kutta."
   ]
  },
  {
   "cell_type": "markdown",
   "metadata": {},
   "source": [
    "Primero resolveremos una ecuación diferencial de la forma $x´=f(x,t)$ utilizando ambos métodos para comparar su efectividad. En particular consideraremos $x'=-tx$, con condición inicial $x_0=x(t=0)=1$, la cual tiene como solución $e^{-t^2}$"
   ]
  },
  {
   "cell_type": "code",
   "execution_count": 18,
   "metadata": {
    "collapsed": false
   },
   "outputs": [],
   "source": [
    "import numpy as np\n",
    "import matplotlib.pyplot as plt\n",
    "%matplotlib inline"
   ]
  },
  {
   "cell_type": "code",
   "execution_count": 13,
   "metadata": {
    "collapsed": false
   },
   "outputs": [],
   "source": [
    "def ecdif(x,t):\n",
    "    return -t*x"
   ]
  },
  {
   "cell_type": "code",
   "execution_count": 14,
   "metadata": {
    "collapsed": true
   },
   "outputs": [],
   "source": [
    "def euler (funcion,x0,t0,tf,h=0.01):\n",
    "    tiempos=np.arange(t0,tf,h)\n",
    "    x=np.zeros(len(tiempos))\n",
    "    x[0]=x0\n",
    "    for i in range(0,len(tiempos)-1):\n",
    "        x[i+1]=x[i]+h*funcion(x[i],tiempos[i])\n",
    "    solucion=[tiempos,x]    \n",
    "    return solucion"
   ]
  },
  {
   "cell_type": "markdown",
   "metadata": {},
   "source": [
    "Para el segundo método calcularemos las derivadas parciales de $x'=f(x,t)$ respecto de x y de t. Se tiene que $\\partial_{x}f=-t$ y $\\partial_{t}f=-x$."
   ]
  },
  {
   "cell_type": "code",
   "execution_count": 15,
   "metadata": {
    "collapsed": true
   },
   "outputs": [],
   "source": [
    "def dert(x,t):\n",
    "    return -x\n",
    "\n",
    "def derx(x,t):\n",
    "    return -t"
   ]
  },
  {
   "cell_type": "code",
   "execution_count": 16,
   "metadata": {
    "collapsed": true
   },
   "outputs": [],
   "source": [
    "def orden2 (funcion,dert,derx,x0,t0,tf,h=0.01):\n",
    "    tiempos=np.arange(t0,tf,h)\n",
    "    x=np.zeros(len(tiempos))\n",
    "    x[0]=x0\n",
    "    for i in range(0,len(tiempos)-1):\n",
    "        x[i+1]=x[i]+h*funcion(x[i],tiempos[i])+(0.5*h**2)*(dert(x[i],tiempos[i])+funcion(x[i],tiempos[i])*derx(x[i],tiempos[i]))\n",
    "    solucion=[tiempos,x]    \n",
    "    return solucion"
   ]
  },
  {
   "cell_type": "code",
   "execution_count": 38,
   "metadata": {
    "collapsed": false
   },
   "outputs": [
    {
     "data": {
      "text/plain": [
       "<matplotlib.legend.Legend at 0x8cc6dd8>"
      ]
     },
     "execution_count": 38,
     "metadata": {},
     "output_type": "execute_result"
    },
    {
     "data": {
      "image/png": "[encoded data removed]",
      "text/plain": [
       "<matplotlib.figure.Figure at 0x8d09518>"
      ]
     },
     "metadata": {},
     "output_type": "display_data"
    }
   ],
   "source": [
    "sol1=euler(ecdif,1,0,1,.1)\n",
    "sol2=orden2(ecdif,dert,derx,1,0,1,.1)\n",
    "plt.plot(sol1[0],sol1[1],label=\"euler\")\n",
    "plt.plot(sol2[0],sol2[1],label=\"orden 2\")\n",
    "plt.plot(sol2[0],np.exp(-sol1[0]**2),label=\"exacta\")\n",
    "plt.legend()"
   ]
  },
  {
   "cell_type": "code",
   "execution_count": null,
   "metadata": {
    "collapsed": true
   },
   "outputs": [],
   "source": []
  }
 ],
 "metadata": {
  "kernelspec": {
   "display_name": "Python 2",
   "language": "python",
   "name": "python2"
  },
  "language_info": {
   "codemirror_mode": {
    "name": "ipython",
    "version": 2
   },
   "file_extension": ".py",
   "mimetype": "text/x-python",
   "name": "python",
   "nbconvert_exporter": "python",
   "pygments_lexer": "ipython2",
   "version": "2.7.11"
  }
 },
 "nbformat": 4,
 "nbformat_minor": 0
}
