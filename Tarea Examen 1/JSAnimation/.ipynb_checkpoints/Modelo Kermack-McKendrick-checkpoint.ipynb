{
 "cells": [
  {
   "cell_type": "markdown",
   "metadata": {},
   "source": [
    "# Modelo Kermack-McKendrick"
   ]
  },
  {
   "cell_type": "code",
   "execution_count": 4,
   "metadata": {
    "collapsed": false,
    "scrolled": true
   },
   "outputs": [
    {
     "ename": "LoadError",
     "evalue": "LoadError: PyError (:PyImport_ImportModule) <type 'exceptions.ImportError'>\nImportError('No module named IPython_display',)\n\nwhile loading In[4], in expression starting on line 324",
     "output_type": "error",
     "traceback": [
      "LoadError: PyError (:PyImport_ImportModule) <type 'exceptions.ImportError'>\nImportError('No module named IPython_display',)\n\nwhile loading In[4], in expression starting on line 324",
      "",
      " [inlined code] from C:\\Users\\ARTURO\\.julia\\v0.4\\PyCall\\src\\exception.jl:81",
      " in pyimport at C:\\Users\\ARTURO\\.julia\\v0.4\\PyCall\\src\\PyCall.jl:285"
     ]
    }
   ],
   "source": [
    "using PyPlot\n",
    "using PyCall\n",
    "#using PyPlot\n",
    "@pyimport scipy\n",
    "@pyimport numpy \n",
    "#@pyimport matplotlib.pyplot as plt\n",
    "@pyimport scipy.integrate as integrate\n",
    "@pyimport matplotlib.animation as animation\n",
    "@pyimport pylab\n",
    "#%matplotlib inline\n"
   ]
  },
  {
   "cell_type": "code",
   "execution_count": 7,
   "metadata": {
    "collapsed": false
   },
   "outputs": [
    {
     "ename": "LoadError",
     "evalue": "LoadError: LoadError: syntax: extra token \"import\" after end of expression\nwhile loading C:\\Users\\ARTURO\\Documents\\Trabajos\\Temas Selectos de Física Computacional\\tareas\\proyecto\\JSAnimation\\IPython_display.py, in expression starting on line 1\nwhile loading In[7], in expression starting on line 1",
     "output_type": "error",
     "traceback": [
      "LoadError: LoadError: syntax: extra token \"import\" after end of expression\nwhile loading C:\\Users\\ARTURO\\Documents\\Trabajos\\Temas Selectos de Física Computacional\\tareas\\proyecto\\JSAnimation\\IPython_display.py, in expression starting on line 1\nwhile loading In[7], in expression starting on line 1",
      "",
      " in include at boot.jl:261",
      " in include_from_node1 at loading.jl:304"
     ]
    }
   ],
   "source": [
    "include(\"IPython_display.py\")\n"
   ]
  },
  {
   "cell_type": "code",
   "execution_count": 9,
   "metadata": {
    "collapsed": false
   },
   "outputs": [
    {
     "ename": "LoadError",
     "evalue": "LoadError: syntax: extra token \"JSAnimation\" after end of expression\nwhile loading In[9], in expression starting on line 3",
     "output_type": "error",
     "traceback": [
      "LoadError: syntax: extra token \"JSAnimation\" after end of expression\nwhile loading In[9], in expression starting on line 3",
      ""
     ]
    }
   ],
   "source": [
    "from numpy import *\n",
    "# importar la libreria de JSAnimation\n",
    "from JSAnimation import IPython_display\n",
    "from pylab import *\n",
    "from matplotlib import animation\n",
    "%matplotlib inline"
   ]
  },
  {
   "cell_type": "code",
   "execution_count": 35,
   "metadata": {
    "collapsed": false
   },
   "outputs": [
    {
     "ename": "LoadError",
     "evalue": "LoadError: syntax: invalid escape sequence\nwhile loading In[35], in expression starting on line 1",
     "output_type": "error",
     "traceback": [
      "LoadError: syntax: invalid escape sequence\nwhile loading In[35], in expression starting on line 1",
      ""
     ]
    }
   ],
   "source": [
    "include(\"C:\\Users\\ARTURO\\Documents\\Trabajos\\Temas Selectos de Física Computacional\\tareas\\proyecto\\JSAnimation\\IPython_display.py\")\n"
   ]
  },
  {
   "cell_type": "code",
   "execution_count": 3,
   "metadata": {
    "collapsed": false,
    "scrolled": true
   },
   "outputs": [
    {
     "ename": "LoadError",
     "evalue": "LoadError: PyError (:PyObject_Call) <type 'exceptions.RuntimeError'>\nRuntimeError('Julia exception: ErrorException(\"type Array has no field set_data\")',)\n  File \"C:\\Program Files\\Anaconda\\lib\\site-packages\\matplotlib\\animation.py\", line 1067, in __init__\n    TimedAnimation.__init__(self, fig, **kwargs)\n  File \"C:\\Program Files\\Anaconda\\lib\\site-packages\\matplotlib\\animation.py\", line 913, in __init__\n    *args, **kwargs)\n  File \"C:\\Program Files\\Anaconda\\lib\\site-packages\\matplotlib\\animation.py\", line 591, in __init__\n    self._init_draw()\n  File \"C:\\Program Files\\Anaconda\\lib\\site-packages\\matplotlib\\animation.py\", line 1094, in _init_draw\n    self._drawn_artists = self._init_func()\n\nwhile loading In[3], in expression starting on line 30",
     "output_type": "error",
     "traceback": [
      "LoadError: PyError (:PyObject_Call) <type 'exceptions.RuntimeError'>\nRuntimeError('Julia exception: ErrorException(\"type Array has no field set_data\")',)\n  File \"C:\\Program Files\\Anaconda\\lib\\site-packages\\matplotlib\\animation.py\", line 1067, in __init__\n    TimedAnimation.__init__(self, fig, **kwargs)\n  File \"C:\\Program Files\\Anaconda\\lib\\site-packages\\matplotlib\\animation.py\", line 913, in __init__\n    *args, **kwargs)\n  File \"C:\\Program Files\\Anaconda\\lib\\site-packages\\matplotlib\\animation.py\", line 591, in __init__\n    self._init_draw()\n  File \"C:\\Program Files\\Anaconda\\lib\\site-packages\\matplotlib\\animation.py\", line 1094, in _init_draw\n    self._drawn_artists = self._init_func()\n\nwhile loading In[3], in expression starting on line 30",
      "",
      " in getindex at C:\\Users\\ARTURO\\.julia\\v0.4\\PyCall\\src\\PyCall.jl:228"
     ]
    }
   ],
   "source": [
    "\n",
    "# Se define el ambiente en el que queremos hacer la animación\n",
    "\n",
    "fig = figure()\n",
    "#ax = plt.axes(xlim = (0,1),ylim=(-1,1))\n",
    "ax = axes(xlim=(0, 1), ylim=(-1.1, 1.1))\n",
    "linea1=ax[:plot]([],[], \"r-\")\n",
    "linea2=ax[:plot]([],[], \"g-\")\n",
    "linea3=ax[:plot]([],[], \"b-\")\n",
    "T = 50 # periodo para generar T cuadros\n",
    "\n",
    "# Funcion para inicializar cada cuadro de la animacion\n",
    "function init()\n",
    "    linea1.set_data([], [])\n",
    "    linea2.set_data([], [])\n",
    "    linea3.set_data([], [])\n",
    "    return linea1,linea2,linea3\n",
    "end\n",
    "# Esta funcion se llama de manera secuencial para cada elemento i.\n",
    "\n",
    "function animate(i)\n",
    "    x = linspace(0, 2*pi, 300)\n",
    "    y1 = sin((pi*i)/T)*sin(pi*x) # primer modo \n",
    "    y2 = sin((2*pi*i)/T)*sin(2*pi*x) # segundo modo \n",
    "    y3 = sin((3*pi*i)/T)*sin(3*pi*x) # tercer modo \n",
    "    linea1.set_data(x, y1),linea2.set_data(x, y2),linea3.set_data(x, y3)\n",
    "    return linea1,linea2,linea3\n",
    "end \n",
    "# Se llama a la animacion.  blit=True es para que solo se dibije las partes de la imagen que tienen cambios.\n",
    "#animation.FuncAnimation(fig, animate, init_func=init,frames=2*T, interval=20, blit=true)"
   ]
  },
  {
   "cell_type": "code",
   "execution_count": null,
   "metadata": {
    "collapsed": true
   },
   "outputs": [],
   "source": []
  }
 ],
 "metadata": {
  "kernelspec": {
   "display_name": "Julia 0.4.3",
   "language": "julia",
   "name": "julia-0.4"
  },
  "language_info": {
   "file_extension": ".jl",
   "mimetype": "application/julia",
   "name": "julia",
   "version": "0.4.3"
  }
 },
 "nbformat": 4,
 "nbformat_minor": 0
}
