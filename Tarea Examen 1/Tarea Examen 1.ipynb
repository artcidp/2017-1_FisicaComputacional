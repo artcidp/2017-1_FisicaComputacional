{
 "cells": [
  {
   "cell_type": "markdown",
   "metadata": {},
   "source": [
    "# Problema 1"
   ]
  },
  {
   "cell_type": "markdown",
   "metadata": {},
   "source": [
    "Se tiene un oscilador harmónico en dos dimensiones, $(x,y)$ en coordenadas cartesianas,en el que la fuerza está dada por $\\vec{F}=-k\\vec{r}$ y se tiene una fricción dada por $\\vec{f}_{fric}=\\begin{cases} -\\gamma\\vec{v} &, \\mbox{si } |\\vec{v}|<1 \\\\ -\\mu\\ v^{3/2} \\hat{v} &, \\mbox{si } |\\vec{v}|>1 \\end{cases}$. Si $m=1, \\gamma=0.1 \\mbox{ y } \\mu=0.2$ resuelva los siguientes ejercicios:\n",
    "\n",
    "**a)**Encuentre las ecuaciones de movimiento en coordenadas cartesianas y polares.  No es necesario resolver las ecuaciones en ambos sistemas, elija el que más le guste y con una transformación de coordenadas obtenga los resultados para el otro sistema de coordenado.\n",
    "\n",
    "**b)**Utilice el método de Runge-Kutta de 4to orden para encontrar la solución a las ecuaciones de\n",
    "movimiento en el inciso anterior con condiciones iniciales $\\vec{r}_0=(0,1)\\ $ y $\\ \\vec{v}_0=(cos\\theta,sen\\theta)$, donde $\\theta=\\frac{n\\pi}{6}$ con $n=0,1,...,11$ .\n",
    "\n",
    "**c)**Genere una función que calcule le energía para distintas condiciones iniciales y detenga la simulación cuanto ésta sea menor al 1% de su valor inicial.\n",
    "\n",
    "**d)**Dibuje las gráficas del momento angular para los casos anteriores del inciso b).\n",
    "\n",
    "**e)**Tome de manera arbitraria una condición inicial y dibuje el espacio fase $(x,p_x)\\ $ y $\\ (\\rho,p_\\rho)$."
   ]
  },
  {
   "cell_type": "markdown",
   "metadata": {},
   "source": [
    "## Solución"
   ]
  },
  {
   "cell_type": "markdown",
   "metadata": {},
   "source": [
    "**a)**Por 2a Ley de Newton se tiene que $m\\ddot{\\vec{r}}=-k\\vec{r}+\\vec{f}_{fric}=\\begin{cases}-k\\vec{r} -\\gamma\\vec{v} &, \\mbox{si } |\\vec{v}|<1 \\\\-k\\vec{r} -\\mu\\ v^{3/2} \\hat{v} &, \\mbox{si } |\\vec{v}|>1 \\end{cases}$. Entonces:"
   ]
  },
  {
   "cell_type": "markdown",
   "metadata": {},
   "source": [
    "**En Coordenadas Cartesianas:**Tomamos que $\\vec{r}(t)=(x(t),y(t))=x(t)\\hat{i}+y(t)\\hat{j}$,con $\\hat{i}=(1,0), \\hat{j}=(0,1)$. Con esto, la velocidad y la aceleración son símplemente: $\\vec{v}=\\dot{\\vec{r}}=\\dot{x}\\ \\hat{i}+\\dot{y}\\ \\hat{j} \\Rightarrow \\vec{a}=\\ddot{\\vec{r}}=\\ddot{x}\\ \\hat{i}+\\ddot{y}\\ \\hat{j}$. Entonces, las ecuaciones de movimiento estan dadas por:\n",
    "\n",
    "$$\\ddot{x}_i=\\begin{cases}-\\frac{k}{m}x_i-\\frac{\\gamma}{m}\\dot{x}_i &\\text{, si }\\ (\\dot{x}_1^2+\\dot{x}_2^2)^{1/2}<1 \\\\ -\\frac{k}{m}x_i-\\frac{\\mu}{m}(\\dot{x}_1^2+\\dot{x}_2^2)^{1/4}\\dot{x}_i &\\text{, si }\\ (\\dot{x}_1^2+\\dot{x}_2^2)^{1/2}>1 \\end{cases}, \\text{donde } i=1,2\\ \\text{ y }\\ (x_1,x_2)=(x,y). $$"
   ]
  },
  {
   "cell_type": "markdown",
   "metadata": {},
   "source": [
    "Para resolver la ecuación hacemos el cambio de variable $\\begin{cases}x_1=x(t)\\\\x_2=y(t) \\\\x_3=\\dot{x}(t)\\\\x_4=\\dot{y}(t) \\end{cases} \\Rightarrow \\begin{cases}\\dot{x_1}=x_3\\\\ \\dot{x_2}=x_4 \\\\ \\dot{x_3}=\\ddot{x}(t)\\\\ \\dot{x_4}=\\ddot{y}(t) \\end{cases}$. \n",
    "\n",
    "Por tanto, el sistema se puede escribir como $\\dot{\\vec{x}}=\\vec{g}(t,\\vec{x})$, con $\\vec{x}=(x_1,x_2,x_3,x_4)$ y \n",
    "$$\\vec{g}=\\begin{cases}(x_3,x_4,-\\frac{k}{m}x_1-\\frac{\\gamma}{m}x_3,-\\frac{k}{m}x_2-\\frac{\\gamma}{m}x_4) &\\text{, si }\\ (x_3^2+x_4^2)^{1/2}<1 \\\\(x_3,x_4,-\\frac{k}{m}x_1-\\frac{\\mu}{m}(x_3^2+x_4^2)^{1/4}x_3,-\\frac{k}{m}x_2-\\frac{\\mu}{m}(x_3^2+x_4^2)^{1/4}x_4) &\\text{, si }\\ (x_3^2+x_4^2)^{1/2}>1 \\end{cases}$$."
   ]
  },
  {
   "cell_type": "markdown",
   "metadata": {},
   "source": [
    "**En Coordendas Polares Planas:**Tomamos que $\\vec{r}(t)=r(t)\\hat{r}(t)$,con $\\hat{r}=(cos\\theta(t),sen\\theta(t))$. Con esto, la velocidad y la aceleración son: $\\vec{v}=\\dot{\\vec{r}}=\\dot{r}\\ \\hat{r} + r\\dot{\\theta}\\ \\hat{\\theta} \\Rightarrow \\vec{a}=\\ddot{\\vec{r}}=(\\ddot{r}-r^2\\dot{\\theta}^2)\\ \\hat{r}+(2\\dot{r}\\dot{\\theta}+r\\ddot{\\theta})\\ \\hat{\\theta}$, donde $\\hat{\\theta}=(-sen\\theta(t),cos\\theta(t))$. En este caso, tenemos una ecuación diferencial en cada dirección coordenada, pero las ecuaciones son distintas. Después de hacer todos los cálculos resulta que:\n",
    "\n",
    "$$\\begin{array}{rl}\\text{para }\\hat{r}:\\quad & \\begin{cases} r^2\\dot{\\theta}^2-\\frac{k}{m}r -\\frac{\\gamma}{m}\\dot{r} & \\text{, si }\\ (r^2\\dot{\\theta}^2+\\dot{r}^2)^{1/2}<1  \\\\ r^2\\dot{\\theta}^2-\\frac{k}{m}r -\\frac{\\mu}{m}(r^2\\dot{\\theta}^2+\\dot{r}^2)^{1/4} \\dot{r} &\\text{, si }\\ (r^2\\dot{\\theta}^2+\\dot{r}^2)^{1/2}>1 \\end{cases} \\\\\n",
    "\\text{para }\\hat{\\theta}:\\quad  & \\begin{cases} -2\\frac{\\dot{r}\\dot{\\theta}}{r} -\\frac{\\gamma}{m}\\dot{\\theta} &\\text{, si }\\ (r^2\\dot{\\theta}^2+\\dot{r}^2)^{1/2}<1  \\\\ -2\\frac{\\dot{r}\\dot{\\theta}}{r} -\\frac{\\mu}{m}(r^2\\dot{\\theta}^2+\\dot{r}^2)^{1/4}\\dot{\\theta} & \\text{, si }\\ (r^2\\dot{\\theta}^2+\\dot{r}^2)^{1/2}>1 \\end{cases} \\end{array} $$"
   ]
  },
  {
   "cell_type": "markdown",
   "metadata": {},
   "source": [
    "Para resolver la ecuación hacemos el cambio de variable $\\begin{cases}r_1=r(t)\\\\r_2=\\theta(t) \\\\r_3=\\dot{r}(t)\\\\r_4=\\dot{\\theta}(t) \\end{cases} \\Rightarrow \\begin{cases}\\dot{r_1}=r_3\\\\ \\dot{r_2}=r_4 \\\\ \\dot{r_3}=\\ddot{r}(t)\\\\ \\dot{r_4}=\\ddot{\\theta}(t) \\end{cases}$. \n",
    "\n",
    "Por tanto, el sistema se puede escribir como $\\dot{\\vec{r}}=\\vec{g}(t,\\vec{r})$, con $\\vec{r}=(r_1,r_2,r_3,r_4)$ y \n",
    "$$\\vec{g}=\\begin{cases}(r_3,r_4,r_1^2 r_4^2-\\frac{k}{m}r_1-\\frac{\\gamma}{m}r_3,-2\\frac{r_3 r_4}{r_1}-\\frac{\\gamma}{m}r_4) &\\text{, si }\\ (r_1^2 r_4^3+r_3^2)^{1/2}<1 \\\\(r_3,r_4,r_1^2 r_4^2 -\\frac{k}{m}r_1-\\frac{\\mu}{m}(r_1^2 r_4^3+r_3^2)^{1/4}r_3,-2\\frac{r_3 r_4}{r_1}-\\frac{\\mu}{m}(r_1^2 r_4^2+r_3^2)^{1/4}r_4) &\\text{, si }\\ (r_1^2 r_4^3+r_3^2)^{1/2}>1 \\end{cases}$$."
   ]
  },
  {
   "cell_type": "markdown",
   "metadata": {},
   "source": [
    "**b)**Utilizamos el método de Runge-Kutta de 4o Orden. Para eso utilizaremos el código que se implementó en las tareas previas."
   ]
  },
  {
   "cell_type": "code",
   "execution_count": 1,
   "metadata": {
    "collapsed": true
   },
   "outputs": [],
   "source": [
    "def int_rk4(funcion,x0,tlist,h=0.1):\n",
    "    \"\"\"\n",
    "    Funcion de Integracion por el Metodo de Runge-Kutta a 4o orden. Sus argumentos son: la funcion de la ecuacion diferencial,\n",
    "    el valor de la funcion al tiempo inicial x0,una lista con el tiempo inicial y el final tlist=[ti,tf] y \n",
    "    el paso de integracion como argumento opcional. \n",
    "    Regresa los tiempos y sus respectivos valores de la funcion como una tupla de arrays t,x. \n",
    "    Cabe notar que la funcion, el jacobiano y x0 pueden tomar valores vectoriales, los cuales se representan por arrays.\n",
    "    Tambien, la funcion debe tener ordenados los parámetros de la forma g(t,x).\n",
    "    \"\"\"\n",
    "    if (tlist[1]-tlist[0])<10.0*h:   #cambia el valor de h para garantizar que se hagan almenos 10 iteraciones\n",
    "        h=(tlist[1]-tlist[0])*0.1\n",
    "    tiempos=np.arange(tlist[0],tlist[1],h) #regresa un array\n",
    "    x = np.zeros((len(tiempos),len(x0)))#regresa otro array del ancho de la dimension de x0 y el largo del array de tiempos)\n",
    "    x[0,:] = x0 #x[tiempo,coordenada],:==todas las coordenadas\n",
    "    for i in xrange(0,len(tiempos)-1):\n",
    "        k1=funcion(tiempos[i],x[i,:])\n",
    "        k2=funcion(tiempos[i]+0.5*h,x[i,:]+0.5*h*k1)\n",
    "        k3=funcion(tiempos[i]+0.5*h,x[i,:]+0.5*h*k2)\n",
    "        k4=funcion(tiempos[i]+h,x[i,:]+h*k3)\n",
    "        x[i+1,:]=x[i,:]+(1/6.0)*h*(k1+2*k2+2*k3+k4)    \n",
    "    return tiempos,x \n",
    "#regresa una tupla, que la hace inmutable a diferencia de una lista y que, a diferencia de un array, \n",
    "#cada entrada puede ser de distinto tipo (heterogéneas)"
   ]
  },
  {
   "cell_type": "markdown",
   "metadata": {},
   "source": [
    "Ahora programamos las ecuaciones de movimiento en los distintos sistemas coordenados."
   ]
  },
  {
   "cell_type": "code",
   "execution_count": null,
   "metadata": {
    "collapsed": true
   },
   "outputs": [],
   "source": []
  },
  {
   "cell_type": "markdown",
   "metadata": {},
   "source": [
    "# Problema 2"
   ]
  },
  {
   "cell_type": "markdown",
   "metadata": {},
   "source": [
    "Suponga que se tiene un sistema como en el problema anterior, pero ahora la partícula tiene carga $q>0$ y en el origen también se encuentra una partícula con carga $q>0$.\n",
    "\n",
    "**a)**Sin considerar fricción, ¿el sistema puede tener órbitas cerradas?. De ser así, encuentre algunas de estas órbitas o muestre que el sistema no puede tener este tipo de órbitas. (Apoye sus argumentos con una simulación).\n",
    "\n",
    "**b)**Considerando fricción, ¿el sistema puede tener órbitas cerradas?. De ser así, encuentre algunas de estas órbitas o muestre que el sistema no puede tener este tipo de órbitas. (Apoye sus argumentos con una simulación)."
   ]
  },
  {
   "cell_type": "markdown",
   "metadata": {},
   "source": [
    "# Problema 3"
   ]
  },
  {
   "cell_type": "markdown",
   "metadata": {},
   "source": [
    "Se tiene un partícula de masa $m=1$ en un campo gravitacional $\\vec{g}=-9.8\\hat{j}$ en una caja como se muestra en la figura con $L=10m\\ $ y $\\ d=3m$.Realice los ejercicios con $\\alpha=\\frac{\\pi}{6},\\frac{\\pi}{10}$. \n",
    "<img src=\"Figura_p3.png\" style=\"width: 30%; height: 30%\"/>. \n",
    "\n",
    "**a)** Realice una simulación con condición inicial talque que la posición inicial está sobre la rampa a un tercio de la distancia de la pared vertical izquierda y el vértice inferior de la caja, y se dispara con velocidad $|\\vec{v}|=1$ y se dispara hacia la derecha con ángulos sobre la horizontal $\\alpha,2\\alpha\\ $ y $\\ 3\\alpha$. Para que la simulación sea válida la partícula debe rebotar almenos 20 veces con alguna parte de la caja.\n",
    "\n",
    "**b)**Introduzca algún modelo de fricción y compare las trayectorias con el inciso anterior.\n",
    "\n",
    "**c)**Realice los ejercicios en los incisos a) y b) pero ahora con $|\\vec{v}|=25\\ $ y $\\ |\\vec{v}|=60$. Describa las similitudes y diferencias entre ambas simulaciones.\n",
    "\n",
    "**d)**Dibuje el espacio fase $(x,p_x)\\ $ y $\\ (y,p_y)$ cuando no hay fricción y la partícula es lanzada hacia la derecha y verticalemente hacia arriba formando un ángulo $\\alpha$ con la horizontal.  Tome en cuenta el número necesario de rebotes para que la simulación pueda barrer el espacio fase de manera representativa."
   ]
  },
  {
   "cell_type": "markdown",
   "metadata": {},
   "source": [
    "# Problema 4"
   ]
  },
  {
   "cell_type": "markdown",
   "metadata": {},
   "source": [
    "Se tiene una partícula de masa $m=1$ en una caja circular como se muestra en la figura. Los radios de la figura $a$ y $b$ son tales que $b=2a$.\n",
    "<img src=\"Figura_p4.png\" style=\"width: 15%; height: 15%\"/>\n",
    "**a)** Realice una simulación donde la partícula realiza varios rebotes en las paredes de la caja. Suponga condiciones iniciales arbitrarias.\n",
    "\n",
    "**b)**¿Existen condiciones iniciales que hagan que la partícula quede encasillada en sólo un sector de la caja? De ser así, muestre cuales son tales condiciones o demuestre porque no se puede obtener dicha situación.\n",
    "\n",
    "**c)**Si ahora se tiene un campo gravitacional uniforme $\\vec{g}=10\\hat{n}$, ¿qué condiciones iniciales se tendrían que cumplir para que la partícula sólo pueda ocupar la mitad de la dona."
   ]
  },
  {
   "cell_type": "markdown",
   "metadata": {},
   "source": [
    "# Punto Extra"
   ]
  },
  {
   "cell_type": "markdown",
   "metadata": {},
   "source": [
    "Realice una animación para alguna trayectoria del problema en el inciso (3c) y otra animación para el inciso (4c)."
   ]
  }
 ],
 "metadata": {
  "kernelspec": {
   "display_name": "Python 2",
   "language": "python",
   "name": "python2"
  },
  "language_info": {
   "codemirror_mode": {
    "name": "ipython",
    "version": 2
   },
   "file_extension": ".py",
   "mimetype": "text/x-python",
   "name": "python",
   "nbconvert_exporter": "python",
   "pygments_lexer": "ipython2",
   "version": "2.7.11"
  }
 },
 "nbformat": 4,
 "nbformat_minor": 0
}
