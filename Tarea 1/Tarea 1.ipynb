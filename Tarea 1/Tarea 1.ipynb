{
 "cells": [
  {
   "cell_type": "markdown",
   "metadata": {},
   "source": [
    "# Problema 1"
   ]
  },
  {
   "cell_type": "markdown",
   "metadata": {},
   "source": [
    "Realice un notebook en el se programen y expliquen los siguientes algoritmos de integraciponn de ecuaciones diferenciales:\n",
    "\n",
    "    a) Integración por Método de Euler\n",
    "    b) Integración por serie de Taylor de 2o Orden\n",
    "    c) Integración por Método de Runge-Kutta de 2o Orden\n",
    "    d) Integración por Método de Runge-Kutta de 4o Orden\n",
    "    \n",
    "Verifique el funcionamiento de sus integradores encontrando la solución de la siguiente ecuación diferencial para $x(t)$:\n",
    "\n",
    "$$\\ddot{x}+0.5\\dot{x}+sinx=e^{-t}sin(3t)$$,\n",
    "donde $x(0)=0 y \\dot{x}(0)=1$."
   ]
  },
  {
   "cell_type": "markdown",
   "metadata": {},
   "source": [
    "### a)Método de Euler"
   ]
  },
  {
   "cell_type": "markdown",
   "metadata": {},
   "source": [
    "Como sabemos, la derivada se define mediante $\\lim$"
   ]
  }
 ],
 "metadata": {
  "kernelspec": {
   "display_name": "Python 2",
   "language": "python",
   "name": "python2"
  },
  "language_info": {
   "codemirror_mode": {
    "name": "ipython",
    "version": 2
   },
   "file_extension": ".py",
   "mimetype": "text/x-python",
   "name": "python",
   "nbconvert_exporter": "python",
   "pygments_lexer": "ipython2",
   "version": "2.7.11"
  }
 },
 "nbformat": 4,
 "nbformat_minor": 0
}
