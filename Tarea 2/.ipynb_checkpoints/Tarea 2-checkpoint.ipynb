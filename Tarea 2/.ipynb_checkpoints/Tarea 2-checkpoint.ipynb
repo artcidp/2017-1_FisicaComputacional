{
 "cells": [
  {
   "cell_type": "markdown",
   "metadata": {},
   "source": [
    "# Problema 1"
   ]
  },
  {
   "cell_type": "markdown",
   "metadata": {},
   "source": [
    "Realize un programa que encuentre todas las ces  de  una  función  en  un  intervalo  cerrado  bajo  la\n",
    "suposición de que la función realiza oscilaciones y entre cada oscilación hay al menos una raíz.  Ponga\n",
    "en práctica esta función y encuentre todas las raíces de la siguiente función:\n",
    "$y(x) = cosx+\\frac{6}{5}sin^2x$ en el intervalo $(0,2\\pi)$."
   ]
  },
  {
   "cell_type": "markdown",
   "metadata": {},
   "source": [
    "Para resolver este problema, que también nos servirá para el problema 2, necesitamos una función que tenga como argumentos la ecuación de la cual deseamos hallar las raíces y el intervalo donde lo deseamos hacer. Para esto subdividiremos el intervalo en n subintervalos iguales, que puede ser especificado por el usuario. Buscamos cambios de signo en la ecuación al comparar sus valores en los extremos del intervalo. Por defecto, si no encuentra ningún cambio de signo crea más subdivisiones para comprobar que este sea el caso."
   ]
  },
  {
   "cell_type": "code",
   "execution_count": 1,
   "metadata": {
    "collapsed": true
   },
   "outputs": [],
   "source": [
    "import numpy as np"
   ]
  },
  {
   "cell_type": "code",
   "execution_count": 2,
   "metadata": {
    "collapsed": true
   },
   "outputs": [],
   "source": [
    "def fun(x):\n",
    "    y= np.cos(x)+(6.0/5.0)*np.sin(x)**2\n",
    "    return y"
   ]
  },
  {
   "cell_type": "code",
   "execution_count": 3,
   "metadata": {
    "collapsed": true
   },
   "outputs": [],
   "source": [
    "import matplotlib.pyplot as plt\n",
    "%matplotlib inline"
   ]
  },
  {
   "cell_type": "code",
   "execution_count": 15,
   "metadata": {
    "collapsed": false
   },
   "outputs": [
    {
     "data": {
      "image/png": "[encoded data removed]",
      "text/plain": [
       "<matplotlib.figure.Figure at 0x64265f8>"
      ]
     },
     "metadata": {},
     "output_type": "display_data"
    }
   ],
   "source": [
    "x=np.linspace(0,2*np.pi,100)\n",
    "y=fun(x)\n",
    "cero=np.zeros(len(x))\n",
    "#plt.figure(figsize=(10,10))\n",
    "plt.plot(x,y,label=\"black\")\n",
    "plt.plot(x,cero,color=\"blue\")\n",
    "plt.title('Comparacion de Metodos de Integracion')\n",
    "plt.show()"
   ]
  },
  {
   "cell_type": "markdown",
   "metadata": {},
   "source": [
    "# Problema 2"
   ]
  },
  {
   "cell_type": "markdown",
   "metadata": {},
   "source": [
    "Se tiene la siguiente función:\n",
    "\n",
    "$$f(x,y)=-2e^{-(x+1)^2}(e^{-(y+2)^2}+e^{-(y-2)^2})+6x(x^2+y^2)e^{-(x^2+y^2)-1}$$\n",
    "\n",
    "Encuentre los puntos $(\\tilde{x},\\tilde{y})$ tales que $f(\\tilde{x},\\tilde{y})=0$ y dibuje estos puntos en el plano $xy$.\n",
    "\n",
    "Hint: En general, estos puntos se encuentran en la región $x,y \\in (-4,4) \\times(-4,4)$. Una forma de obtener\n",
    "los puntos es haciendo un barrido para $x$ fija y encontrando todas las raíces de la ecuación en términos de $y$.  Entre más\n",
    "fino haga el barrido, la curva de nivel que se encuentre será mejor."
   ]
  },
  {
   "cell_type": "code",
   "execution_count": null,
   "metadata": {
    "collapsed": true
   },
   "outputs": [],
   "source": []
  },
  {
   "cell_type": "markdown",
   "metadata": {},
   "source": [
    "# Problema 3"
   ]
  },
  {
   "cell_type": "markdown",
   "metadata": {},
   "source": [
    "Se tiene una pelota de masa $m$ sobre un plano inclinado a un ángulo $\\alpha = 15°,30°$ y $45°$. \n",
    "\n",
    "   *a)*Dibuje la trayectoria de la pelota si es lanzada desde el plano inclinado, en dirección descendiente del plano con velocidad inicial $v_{0x},v_{0y}>0$, considerando que hay fricción proporcional a la norma de la velocidad\n",
    "   \n",
    "   *b)*Realice la misma simulación con la fricción proporcional al cuadrado de la norma de la velocidad.\n",
    "   \n",
    "   *c)* ¿Qué sucede si ahora la pelota es lanzada con velocidad inicial $v_{0x}$ tal que $tan^{-1}(\\frac{v_{0y}}{v_{0x}})>\\alpha$?, i.e. ¿Qué sucede cuando se lanca hacia arriba del plano.\n",
    "   \n",
    "Realice las gráficas que representan las simulaciones. Puede suponer $m=1$ y valores adecuados para los coeficientes de fricción."
   ]
  },
  {
   "cell_type": "code",
   "execution_count": null,
   "metadata": {
    "collapsed": true
   },
   "outputs": [],
   "source": []
  }
 ],
 "metadata": {
  "kernelspec": {
   "display_name": "Python 2",
   "language": "python",
   "name": "python2"
  },
  "language_info": {
   "codemirror_mode": {
    "name": "ipython",
    "version": 2
   },
   "file_extension": ".py",
   "mimetype": "text/x-python",
   "name": "python",
   "nbconvert_exporter": "python",
   "pygments_lexer": "ipython2",
   "version": "2.7.11"
  }
 },
 "nbformat": 4,
 "nbformat_minor": 0
}
